{
 "cells": [
  {
   "cell_type": "code",
   "execution_count": 1,
   "metadata": {
    "collapsed": true
   },
   "outputs": [],
   "source": [
    "import tensorflow as tf"
   ]
  },
  {
   "cell_type": "code",
   "execution_count": 2,
   "metadata": {},
   "outputs": [
    {
     "name": "stdout",
     "output_type": "stream",
     "text": [
      "Extracting data/train-images-idx3-ubyte.gz\n",
      "Extracting data/train-labels-idx1-ubyte.gz\n",
      "Extracting data/t10k-images-idx3-ubyte.gz\n",
      "Extracting data/t10k-labels-idx1-ubyte.gz\n"
     ]
    }
   ],
   "source": [
    "from tensorflow.examples.tutorials.mnist import input_data\n",
    "mnist = input_data.read_data_sets(\"data/\", one_hot=True)"
   ]
  },
  {
   "cell_type": "code",
   "execution_count": 3,
   "metadata": {
    "collapsed": true
   },
   "outputs": [],
   "source": [
    "tf.reset_default_graph()"
   ]
  },
  {
   "cell_type": "code",
   "execution_count": 4,
   "metadata": {
    "collapsed": true
   },
   "outputs": [],
   "source": [
    "element_size = 28\n",
    "time_steps = 28\n",
    "num_classes = 10\n",
    "state_size = 128\n",
    "\n",
    "batch_size = 100"
   ]
  },
  {
   "cell_type": "code",
   "execution_count": 5,
   "metadata": {
    "collapsed": true
   },
   "outputs": [],
   "source": [
    "X = tf.placeholder(tf.float32, shape=[None, time_steps, element_size], name=\"inputs\")\n",
    "y = tf.placeholder(tf.float32, shape=[None, num_classes], name=\"labels\")"
   ]
  },
  {
   "cell_type": "code",
   "execution_count": 6,
   "metadata": {
    "collapsed": true
   },
   "outputs": [],
   "source": [
    "rnn_cell = tf.contrib.rnn.BasicRNNCell(state_size)\n",
    "outputs, states = tf.nn.dynamic_rnn(rnn_cell, X, dtype=tf.float32)\n",
    "# 'outputs' is a tensor of shape [batch_size, time_steps, hidden_size]"
   ]
  },
  {
   "cell_type": "code",
   "execution_count": 7,
   "metadata": {
    "collapsed": true
   },
   "outputs": [],
   "source": [
    "last_rnn_output = outputs[:, -1, :]"
   ]
  },
  {
   "cell_type": "code",
   "execution_count": 8,
   "metadata": {
    "collapsed": true
   },
   "outputs": [],
   "source": [
    "Wf = tf.Variable(tf.truncated_normal([state_size, num_classes], mean=0, stddev=0.01))\n",
    "bf = tf.Variable(tf.truncated_normal([num_classes], mean=0, stddev=0.01))"
   ]
  },
  {
   "cell_type": "code",
   "execution_count": 9,
   "metadata": {
    "collapsed": true
   },
   "outputs": [],
   "source": [
    "final_output = tf.matmul(last_rnn_output, Wf) + bf"
   ]
  },
  {
   "cell_type": "code",
   "execution_count": 10,
   "metadata": {
    "collapsed": true
   },
   "outputs": [],
   "source": [
    "xentropy = tf.reduce_mean(tf.nn.softmax_cross_entropy_with_logits(logits=final_output, labels=y))\n",
    "train = tf.train.AdamOptimizer(0.0001).minimize(xentropy)"
   ]
  },
  {
   "cell_type": "code",
   "execution_count": 11,
   "metadata": {
    "collapsed": true
   },
   "outputs": [],
   "source": [
    "correct = tf.equal(tf.argmax(y,1), tf.argmax(final_output,1))\n",
    "accuracy = tf.reduce_mean(tf.cast(correct, tf.float32))"
   ]
  },
  {
   "cell_type": "code",
   "execution_count": 12,
   "metadata": {
    "collapsed": true
   },
   "outputs": [],
   "source": [
    "saver = tf.train.Saver()\n",
    "\n",
    "n_epochs = 200\n",
    "train_passes = mnist.train.num_examples // batch_size\n",
    "test_passes = mnist.test.num_examples // batch_size\n",
    "final_accuracy = 0"
   ]
  },
  {
   "cell_type": "code",
   "execution_count": 13,
   "metadata": {},
   "outputs": [
    {
     "name": "stdout",
     "output_type": "stream",
     "text": [
      "Epoch  0 \tTrain accuracy 0.8000 \tTest accuracy 0.7510\n",
      "Epoch  1 \tTrain accuracy 0.8200 \tTest accuracy 0.8297\n",
      "Epoch  2 \tTrain accuracy 0.9000 \tTest accuracy 0.8750\n",
      "Epoch  3 \tTrain accuracy 0.8800 \tTest accuracy 0.9021\n",
      "Epoch  4 \tTrain accuracy 0.8600 \tTest accuracy 0.9109\n",
      "Epoch  5 \tTrain accuracy 0.9400 \tTest accuracy 0.9199\n",
      "Epoch  6 \tTrain accuracy 0.9800 \tTest accuracy 0.9258\n",
      "Epoch  7 \tTrain accuracy 0.9100 \tTest accuracy 0.9304\n",
      "Epoch  8 \tTrain accuracy 0.9000 \tTest accuracy 0.9271\n",
      "Epoch  9 \tTrain accuracy 0.9400 \tTest accuracy 0.9336\n",
      "Epoch 10 \tTrain accuracy 0.8900 \tTest accuracy 0.9367\n",
      "Epoch 11 \tTrain accuracy 0.9500 \tTest accuracy 0.9340\n",
      "Epoch 12 \tTrain accuracy 0.9600 \tTest accuracy 0.9296\n",
      "Epoch 13 \tTrain accuracy 0.9200 \tTest accuracy 0.9454\n",
      "Epoch 14 \tTrain accuracy 0.9600 \tTest accuracy 0.9440\n",
      "Epoch 15 \tTrain accuracy 0.9700 \tTest accuracy 0.9469\n",
      "Epoch 16 \tTrain accuracy 0.9500 \tTest accuracy 0.9471\n",
      "Epoch 17 \tTrain accuracy 0.9400 \tTest accuracy 0.9492\n",
      "Epoch 18 \tTrain accuracy 0.9700 \tTest accuracy 0.9527\n",
      "Epoch 19 \tTrain accuracy 0.9600 \tTest accuracy 0.9526\n",
      "Epoch 20 \tTrain accuracy 0.9500 \tTest accuracy 0.9542\n",
      "Epoch 21 \tTrain accuracy 0.9500 \tTest accuracy 0.9550\n",
      "Epoch 22 \tTrain accuracy 0.9600 \tTest accuracy 0.9528\n",
      "Epoch 23 \tTrain accuracy 0.9600 \tTest accuracy 0.9550\n",
      "Epoch 24 \tTrain accuracy 0.9600 \tTest accuracy 0.9578\n",
      "Epoch 25 \tTrain accuracy 0.9800 \tTest accuracy 0.9510\n",
      "Epoch 26 \tTrain accuracy 0.9400 \tTest accuracy 0.9551\n",
      "Epoch 27 \tTrain accuracy 0.9700 \tTest accuracy 0.9579\n",
      "Epoch 28 \tTrain accuracy 0.9800 \tTest accuracy 0.9602\n",
      "Epoch 29 \tTrain accuracy 0.9800 \tTest accuracy 0.9588\n",
      "Epoch 30 \tTrain accuracy 1.0000 \tTest accuracy 0.9621\n",
      "Epoch 31 \tTrain accuracy 0.9800 \tTest accuracy 0.9609\n",
      "Epoch 32 \tTrain accuracy 0.9500 \tTest accuracy 0.9606\n",
      "Epoch 33 \tTrain accuracy 0.9500 \tTest accuracy 0.9604\n",
      "Epoch 34 \tTrain accuracy 0.9800 \tTest accuracy 0.9643\n",
      "Epoch 35 \tTrain accuracy 0.9600 \tTest accuracy 0.9633\n",
      "Epoch 36 \tTrain accuracy 1.0000 \tTest accuracy 0.9654\n",
      "Epoch 37 \tTrain accuracy 0.9500 \tTest accuracy 0.9635\n",
      "Epoch 38 \tTrain accuracy 0.9700 \tTest accuracy 0.9640\n",
      "Epoch 39 \tTrain accuracy 0.9700 \tTest accuracy 0.9669\n",
      "Epoch 40 \tTrain accuracy 0.9700 \tTest accuracy 0.9649\n",
      "Epoch 41 \tTrain accuracy 0.9600 \tTest accuracy 0.9673\n",
      "Epoch 42 \tTrain accuracy 0.9800 \tTest accuracy 0.9675\n",
      "Epoch 43 \tTrain accuracy 0.9700 \tTest accuracy 0.9669\n",
      "Epoch 44 \tTrain accuracy 0.9900 \tTest accuracy 0.9683\n",
      "Epoch 45 \tTrain accuracy 0.9700 \tTest accuracy 0.9661\n",
      "Epoch 46 \tTrain accuracy 0.9800 \tTest accuracy 0.9687\n",
      "Epoch 47 \tTrain accuracy 0.9900 \tTest accuracy 0.9673\n",
      "Epoch 48 \tTrain accuracy 0.9800 \tTest accuracy 0.9646\n",
      "Epoch 49 \tTrain accuracy 0.9900 \tTest accuracy 0.9681\n",
      "Epoch 50 \tTrain accuracy 0.9800 \tTest accuracy 0.9653\n",
      "Epoch 51 \tTrain accuracy 0.9700 \tTest accuracy 0.9716\n",
      "Epoch 52 \tTrain accuracy 0.9700 \tTest accuracy 0.9686\n",
      "Epoch 53 \tTrain accuracy 0.9900 \tTest accuracy 0.9707\n",
      "Epoch 54 \tTrain accuracy 1.0000 \tTest accuracy 0.9689\n",
      "Epoch 55 \tTrain accuracy 0.9800 \tTest accuracy 0.9728\n",
      "Epoch 56 \tTrain accuracy 0.9800 \tTest accuracy 0.9699\n",
      "Epoch 57 \tTrain accuracy 0.9900 \tTest accuracy 0.9719\n",
      "Epoch 58 \tTrain accuracy 0.9800 \tTest accuracy 0.9723\n",
      "Epoch 59 \tTrain accuracy 0.9700 \tTest accuracy 0.9722\n",
      "Epoch 60 \tTrain accuracy 0.9600 \tTest accuracy 0.9702\n",
      "Epoch 61 \tTrain accuracy 1.0000 \tTest accuracy 0.9718\n",
      "Epoch 62 \tTrain accuracy 0.9900 \tTest accuracy 0.9720\n",
      "Epoch 63 \tTrain accuracy 0.9900 \tTest accuracy 0.9731\n",
      "Epoch 64 \tTrain accuracy 0.9700 \tTest accuracy 0.9744\n",
      "Epoch 65 \tTrain accuracy 0.9900 \tTest accuracy 0.9701\n",
      "Epoch 66 \tTrain accuracy 0.9600 \tTest accuracy 0.9704\n",
      "Epoch 67 \tTrain accuracy 0.9900 \tTest accuracy 0.9735\n",
      "Epoch 68 \tTrain accuracy 0.9600 \tTest accuracy 0.9740\n",
      "Epoch 69 \tTrain accuracy 0.9700 \tTest accuracy 0.9728\n",
      "Epoch 70 \tTrain accuracy 0.9800 \tTest accuracy 0.9704\n",
      "Epoch 71 \tTrain accuracy 0.9900 \tTest accuracy 0.9749\n",
      "Epoch 72 \tTrain accuracy 0.9900 \tTest accuracy 0.9743\n",
      "Epoch 73 \tTrain accuracy 0.9600 \tTest accuracy 0.9739\n",
      "Epoch 74 \tTrain accuracy 0.9700 \tTest accuracy 0.9738\n",
      "Epoch 75 \tTrain accuracy 0.9700 \tTest accuracy 0.9734\n",
      "Epoch 76 \tTrain accuracy 1.0000 \tTest accuracy 0.9727\n",
      "Epoch 77 \tTrain accuracy 0.9900 \tTest accuracy 0.9740\n",
      "Epoch 78 \tTrain accuracy 1.0000 \tTest accuracy 0.9771\n",
      "Epoch 79 \tTrain accuracy 0.9700 \tTest accuracy 0.9749\n",
      "Epoch 80 \tTrain accuracy 1.0000 \tTest accuracy 0.9747\n",
      "Epoch 81 \tTrain accuracy 0.9900 \tTest accuracy 0.9761\n",
      "Epoch 82 \tTrain accuracy 0.9900 \tTest accuracy 0.9749\n",
      "Epoch 83 \tTrain accuracy 0.9800 \tTest accuracy 0.9754\n",
      "Epoch 84 \tTrain accuracy 0.9800 \tTest accuracy 0.9723\n",
      "Epoch 85 \tTrain accuracy 0.9600 \tTest accuracy 0.9711\n",
      "Epoch 86 \tTrain accuracy 0.9800 \tTest accuracy 0.9758\n",
      "Epoch 87 \tTrain accuracy 1.0000 \tTest accuracy 0.9707\n",
      "Epoch 88 \tTrain accuracy 0.9700 \tTest accuracy 0.9762\n",
      "Epoch 89 \tTrain accuracy 0.9900 \tTest accuracy 0.9739\n",
      "Epoch 90 \tTrain accuracy 1.0000 \tTest accuracy 0.9757\n",
      "Epoch 91 \tTrain accuracy 0.9800 \tTest accuracy 0.9746\n",
      "Epoch 92 \tTrain accuracy 0.9900 \tTest accuracy 0.9754\n",
      "Epoch 93 \tTrain accuracy 1.0000 \tTest accuracy 0.9751\n",
      "Epoch 94 \tTrain accuracy 0.9900 \tTest accuracy 0.9748\n",
      "Epoch 95 \tTrain accuracy 0.9900 \tTest accuracy 0.9758\n",
      "Epoch 96 \tTrain accuracy 0.9900 \tTest accuracy 0.9756\n",
      "Epoch 97 \tTrain accuracy 0.9900 \tTest accuracy 0.9755\n",
      "Epoch 98 \tTrain accuracy 0.9700 \tTest accuracy 0.9769\n",
      "Epoch 99 \tTrain accuracy 1.0000 \tTest accuracy 0.9762\n",
      "Epoch 100 \tTrain accuracy 1.0000 \tTest accuracy 0.9750\n",
      "Epoch 101 \tTrain accuracy 1.0000 \tTest accuracy 0.9745\n",
      "Epoch 102 \tTrain accuracy 0.9800 \tTest accuracy 0.9743\n",
      "Epoch 103 \tTrain accuracy 1.0000 \tTest accuracy 0.9771\n",
      "Epoch 104 \tTrain accuracy 0.9900 \tTest accuracy 0.9769\n",
      "Epoch 105 \tTrain accuracy 0.9800 \tTest accuracy 0.9763\n",
      "Epoch 106 \tTrain accuracy 0.9800 \tTest accuracy 0.9777\n",
      "Epoch 107 \tTrain accuracy 1.0000 \tTest accuracy 0.9767\n",
      "Epoch 108 \tTrain accuracy 0.9900 \tTest accuracy 0.9754\n",
      "Epoch 109 \tTrain accuracy 0.9900 \tTest accuracy 0.9764\n",
      "Epoch 110 \tTrain accuracy 1.0000 \tTest accuracy 0.9774\n",
      "Epoch 111 \tTrain accuracy 0.9800 \tTest accuracy 0.9774\n",
      "Epoch 112 \tTrain accuracy 0.9800 \tTest accuracy 0.9774\n",
      "Epoch 113 \tTrain accuracy 1.0000 \tTest accuracy 0.9772\n",
      "Epoch 114 \tTrain accuracy 0.9700 \tTest accuracy 0.9760\n",
      "Epoch 115 \tTrain accuracy 0.9800 \tTest accuracy 0.9770\n",
      "Epoch 116 \tTrain accuracy 0.9700 \tTest accuracy 0.9781\n",
      "Epoch 117 \tTrain accuracy 0.9900 \tTest accuracy 0.9772\n",
      "Epoch 118 \tTrain accuracy 0.9900 \tTest accuracy 0.9742\n",
      "Epoch 119 \tTrain accuracy 0.9900 \tTest accuracy 0.9750\n",
      "Epoch 120 \tTrain accuracy 0.9900 \tTest accuracy 0.9773\n",
      "Epoch 121 \tTrain accuracy 0.9900 \tTest accuracy 0.9744\n",
      "Epoch 122 \tTrain accuracy 1.0000 \tTest accuracy 0.9771\n",
      "Epoch 123 \tTrain accuracy 0.9900 \tTest accuracy 0.9722\n",
      "Epoch 124 \tTrain accuracy 0.9700 \tTest accuracy 0.9784\n",
      "Epoch 125 \tTrain accuracy 0.9700 \tTest accuracy 0.9747\n",
      "Epoch 126 \tTrain accuracy 1.0000 \tTest accuracy 0.9759\n",
      "Epoch 127 \tTrain accuracy 0.9800 \tTest accuracy 0.9754\n",
      "Epoch 128 \tTrain accuracy 0.9800 \tTest accuracy 0.9752\n",
      "Epoch 129 \tTrain accuracy 0.9900 \tTest accuracy 0.9743\n",
      "Epoch 130 \tTrain accuracy 1.0000 \tTest accuracy 0.9784\n",
      "Epoch 131 \tTrain accuracy 1.0000 \tTest accuracy 0.9777\n",
      "Epoch 132 \tTrain accuracy 1.0000 \tTest accuracy 0.9777\n",
      "Epoch 133 \tTrain accuracy 0.9800 \tTest accuracy 0.9749\n",
      "Epoch 134 \tTrain accuracy 0.9900 \tTest accuracy 0.9773\n",
      "Epoch 135 \tTrain accuracy 0.9900 \tTest accuracy 0.9763\n",
      "Epoch 136 \tTrain accuracy 0.9900 \tTest accuracy 0.9763\n",
      "Epoch 137 \tTrain accuracy 0.9900 \tTest accuracy 0.9748\n",
      "Epoch 138 \tTrain accuracy 0.9900 \tTest accuracy 0.9764\n",
      "Epoch 139 \tTrain accuracy 1.0000 \tTest accuracy 0.9793\n",
      "Epoch 140 \tTrain accuracy 0.9900 \tTest accuracy 0.9759\n",
      "Epoch 141 \tTrain accuracy 1.0000 \tTest accuracy 0.9769\n",
      "Epoch 142 \tTrain accuracy 1.0000 \tTest accuracy 0.9770\n",
      "Epoch 143 \tTrain accuracy 1.0000 \tTest accuracy 0.9789\n",
      "Epoch 144 \tTrain accuracy 1.0000 \tTest accuracy 0.9769\n",
      "Epoch 145 \tTrain accuracy 1.0000 \tTest accuracy 0.9790\n",
      "Epoch 146 \tTrain accuracy 1.0000 \tTest accuracy 0.9794\n",
      "Epoch 147 \tTrain accuracy 1.0000 \tTest accuracy 0.9787\n",
      "Epoch 148 \tTrain accuracy 0.9800 \tTest accuracy 0.9746\n",
      "Epoch 149 \tTrain accuracy 1.0000 \tTest accuracy 0.9779\n",
      "Epoch 150 \tTrain accuracy 1.0000 \tTest accuracy 0.9776\n"
     ]
    },
    {
     "name": "stdout",
     "output_type": "stream",
     "text": [
      "Epoch 151 \tTrain accuracy 1.0000 \tTest accuracy 0.9767\n",
      "Epoch 152 \tTrain accuracy 1.0000 \tTest accuracy 0.9752\n",
      "Epoch 153 \tTrain accuracy 0.9900 \tTest accuracy 0.9763\n",
      "Epoch 154 \tTrain accuracy 0.9900 \tTest accuracy 0.9785\n",
      "Epoch 155 \tTrain accuracy 0.9900 \tTest accuracy 0.9782\n",
      "Epoch 156 \tTrain accuracy 1.0000 \tTest accuracy 0.9780\n",
      "Epoch 157 \tTrain accuracy 1.0000 \tTest accuracy 0.9794\n",
      "Epoch 158 \tTrain accuracy 1.0000 \tTest accuracy 0.9796\n",
      "Epoch 159 \tTrain accuracy 0.9900 \tTest accuracy 0.9787\n",
      "Epoch 160 \tTrain accuracy 1.0000 \tTest accuracy 0.9776\n",
      "Epoch 161 \tTrain accuracy 1.0000 \tTest accuracy 0.9792\n",
      "Epoch 162 \tTrain accuracy 1.0000 \tTest accuracy 0.9793\n",
      "Epoch 163 \tTrain accuracy 1.0000 \tTest accuracy 0.9772\n",
      "Epoch 164 \tTrain accuracy 0.9700 \tTest accuracy 0.9789\n",
      "Epoch 165 \tTrain accuracy 1.0000 \tTest accuracy 0.9791\n",
      "Epoch 166 \tTrain accuracy 1.0000 \tTest accuracy 0.9781\n",
      "Epoch 167 \tTrain accuracy 1.0000 \tTest accuracy 0.9783\n",
      "Epoch 168 \tTrain accuracy 1.0000 \tTest accuracy 0.9776\n",
      "Epoch 169 \tTrain accuracy 0.9900 \tTest accuracy 0.9780\n",
      "Epoch 170 \tTrain accuracy 1.0000 \tTest accuracy 0.9790\n",
      "Epoch 171 \tTrain accuracy 1.0000 \tTest accuracy 0.9783\n",
      "Epoch 172 \tTrain accuracy 1.0000 \tTest accuracy 0.9771\n",
      "Epoch 173 \tTrain accuracy 1.0000 \tTest accuracy 0.9793\n",
      "Epoch 174 \tTrain accuracy 1.0000 \tTest accuracy 0.9766\n",
      "Epoch 175 \tTrain accuracy 1.0000 \tTest accuracy 0.9748\n",
      "Epoch 176 \tTrain accuracy 1.0000 \tTest accuracy 0.9804\n",
      "Epoch 177 \tTrain accuracy 1.0000 \tTest accuracy 0.9784\n",
      "Epoch 178 \tTrain accuracy 1.0000 \tTest accuracy 0.9793\n",
      "Epoch 179 \tTrain accuracy 1.0000 \tTest accuracy 0.9737\n",
      "Epoch 180 \tTrain accuracy 1.0000 \tTest accuracy 0.9775\n",
      "Epoch 181 \tTrain accuracy 1.0000 \tTest accuracy 0.9797\n",
      "Epoch 182 \tTrain accuracy 0.9900 \tTest accuracy 0.9788\n",
      "Epoch 183 \tTrain accuracy 1.0000 \tTest accuracy 0.9791\n",
      "Epoch 184 \tTrain accuracy 0.9900 \tTest accuracy 0.9773\n",
      "Epoch 185 \tTrain accuracy 1.0000 \tTest accuracy 0.9776\n",
      "Epoch 186 \tTrain accuracy 0.9900 \tTest accuracy 0.9788\n",
      "Epoch 187 \tTrain accuracy 1.0000 \tTest accuracy 0.9777\n",
      "Epoch 188 \tTrain accuracy 1.0000 \tTest accuracy 0.9785\n",
      "Epoch 189 \tTrain accuracy 1.0000 \tTest accuracy 0.9793\n",
      "Epoch 190 \tTrain accuracy 1.0000 \tTest accuracy 0.9789\n",
      "Epoch 191 \tTrain accuracy 1.0000 \tTest accuracy 0.9769\n",
      "Epoch 192 \tTrain accuracy 0.9900 \tTest accuracy 0.9786\n",
      "Epoch 193 \tTrain accuracy 1.0000 \tTest accuracy 0.9797\n",
      "Epoch 194 \tTrain accuracy 1.0000 \tTest accuracy 0.9793\n",
      "Epoch 195 \tTrain accuracy 1.0000 \tTest accuracy 0.9790\n",
      "Epoch 196 \tTrain accuracy 0.9900 \tTest accuracy 0.9782\n",
      "Epoch 197 \tTrain accuracy 1.0000 \tTest accuracy 0.9780\n",
      "Epoch 198 \tTrain accuracy 1.0000 \tTest accuracy 0.9787\n",
      "Epoch 199 \tTrain accuracy 1.0000 \tTest accuracy 0.9770\n",
      "\n",
      "Final Accuracy 0.9803999829292297\n"
     ]
    }
   ],
   "source": [
    "with tf.Session() as sess:\n",
    "    sess.run(tf.global_variables_initializer())\n",
    "    for epoch in range(n_epochs):\n",
    "        for step in range(train_passes):\n",
    "            x_batch, y_batch = mnist.train.next_batch(batch_size)\n",
    "            x_batch = x_batch.reshape(batch_size, time_steps, element_size)\n",
    "            sess.run(train, feed_dict={X: x_batch, y: y_batch})\n",
    "        acc_train = accuracy.eval(feed_dict={X: x_batch, y: y_batch})\n",
    "        \n",
    "        cum_acc_test = 0\n",
    "        for jump in range(test_passes):\n",
    "            xt_batch, yt_batch = mnist.test.next_batch(batch_size)\n",
    "            xt_batch = xt_batch.reshape(batch_size, time_steps, element_size)\n",
    "            cum_acc_test = cum_acc_test + accuracy.eval(feed_dict={X: xt_batch, y: yt_batch})\n",
    "        acc_test = cum_acc_test/test_passes\n",
    "        \n",
    "        print(\"Epoch {:>2d}\".format(epoch), \"\\tTrain accuracy {:.4f}\".format(acc_train), \n",
    "                                                  \"\\tTest accuracy {:.4f}\".format(acc_test))\n",
    "        if acc_test > final_accuracy:\n",
    "            final_accuracy = acc_test\n",
    "\n",
    "    save_model = saver.save(sess, \"models/my_model_final.ckpt\")\n",
    "    print(\"\\nFinal Accuracy {}\".format(final_accuracy))"
   ]
  },
  {
   "cell_type": "code",
   "execution_count": null,
   "metadata": {
    "collapsed": true
   },
   "outputs": [],
   "source": []
  }
 ],
 "metadata": {
  "kernelspec": {
   "display_name": "Python 3",
   "language": "python",
   "name": "python3"
  },
  "language_info": {
   "codemirror_mode": {
    "name": "ipython",
    "version": 3
   },
   "file_extension": ".py",
   "mimetype": "text/x-python",
   "name": "python",
   "nbconvert_exporter": "python",
   "pygments_lexer": "ipython3",
   "version": "3.6.3"
  }
 },
 "nbformat": 4,
 "nbformat_minor": 2
}
