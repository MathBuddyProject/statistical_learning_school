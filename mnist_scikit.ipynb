{
 "cells": [
  {
   "cell_type": "code",
   "execution_count": null,
   "metadata": {
    "collapsed": true
   },
   "outputs": [],
   "source": [
    "#Importing the MNIST data set\n",
    "from sklearn.datasets import fetch_mldata\n",
    "mnist = fetch_mldata(\"MNIST original\")\n",
    "x, y = mnist[\"data\"], mnist[\"target\"] #Creating arrays for the feature vectors and the labels\n",
    "xtrain, xtest, ytrain, ytest = x[:60000], x[60000:], y[:60000], y[60000:]"
   ]
  },
  {
   "cell_type": "code",
   "execution_count": 29,
   "metadata": {
    "collapsed": true
   },
   "outputs": [],
   "source": [
    "#Importing the Random Forest Classifier and training it on the training set\n",
    "from sklearn.ensemble import RandomForestClassifier\n",
    "forest = RandomForestClassifier()\n",
    "forest = forest.fit(xtrain, ytrain)"
   ]
  },
  {
   "cell_type": "code",
   "execution_count": 31,
   "metadata": {},
   "outputs": [
    {
     "name": "stdout",
     "output_type": "stream",
     "text": [
      "1313\n"
     ]
    },
    {
     "data": {
      "image/png": "[encoded data removed]",
      "text/plain": [
       "<matplotlib.figure.Figure at 0x202d7503e80>"
      ]
     },
     "metadata": {},
     "output_type": "display_data"
    },
    {
     "data": {
      "text/plain": [
       "0.0"
      ]
     },
     "execution_count": 31,
     "metadata": {},
     "output_type": "execute_result"
    }
   ],
   "source": [
    "%matplotlib inline\n",
    "import matplotlib\n",
    "import matplotlib.pyplot as plt\n",
    "import random\n",
    "\n",
    "#Selecting a random image from the data set\n",
    "images = xtrain.shape[0]\n",
    "index = random.randrange(images)\n",
    "print(index)\n",
    "\n",
    "#Reshaping the array to a 28x28 pixel image\n",
    "display = xtrain[index].reshape((28,28))\n",
    "\n",
    "#Plotting the image\n",
    "plt.imshow(display, cmap = matplotlib.cm.binary, interpolation=\"nearest\")\n",
    "plt.axis(\"off\")\n",
    "plt.show()\n",
    "ytrain[index]"
   ]
  },
  {
   "cell_type": "code",
   "execution_count": 34,
   "metadata": {},
   "outputs": [
    {
     "data": {
      "text/plain": [
       "array([ 0.])"
      ]
     },
     "execution_count": 34,
     "metadata": {},
     "output_type": "execute_result"
    }
   ],
   "source": [
    "#Predicting the digit in the image using the Random Forest Classifier\n",
    "forest.predict([xtrain[index]])"
   ]
  },
  {
   "cell_type": "code",
   "execution_count": 35,
   "metadata": {},
   "outputs": [
    {
     "data": {
      "text/plain": [
       "array([[ 1.,  0.,  0.,  0.,  0.,  0.,  0.,  0.,  0.,  0.]])"
      ]
     },
     "execution_count": 35,
     "metadata": {},
     "output_type": "execute_result"
    }
   ],
   "source": [
    "#Predicting the probabilities for each class\n",
    "forest.predict_proba([xtrain[index]])"
   ]
  },
  {
   "cell_type": "code",
   "execution_count": 42,
   "metadata": {},
   "outputs": [
    {
     "name": "stdout",
     "output_type": "stream",
     "text": [
      "[[ 968    0    0    1    0    2    2    1    4    2]\n",
      " [   0 1123    4    3    1    0    3    0    1    0]\n",
      " [  14    2  979    4    4    0    3   12   13    1]\n",
      " [   1    0   18  953    0   16    2    9   10    1]\n",
      " [   2    5    2    1  933    3    9    1    3   23]\n",
      " [  11    1    3   29    6  819    6    2   11    4]\n",
      " [  17    3    5    0    7    8  915    0    2    1]\n",
      " [   4    9   17    5    9    1    0  966    6   11]\n",
      " [   7    0   11   22    7   17    5    6  886   13]\n",
      " [  11    4    2   14   23    4    1    7   10  933]]\n"
     ]
    }
   ],
   "source": [
    "#Predicting all of the test cases\n",
    "ypred = forest.predict(xtest)\n",
    "\n",
    "#Computing the confusion matrix using sklearn.metrics\n",
    "import sklearn.metrics as met\n",
    "\n",
    "confusion = met.confusion_matrix(ytest, ypred)\n",
    "print(confusion)"
   ]
  },
  {
   "cell_type": "code",
   "execution_count": 39,
   "metadata": {},
   "outputs": [
    {
     "data": {
      "image/png": "[encoded data removed]",
      "text/plain": [
       "<matplotlib.figure.Figure at 0x202d7885ba8>"
      ]
     },
     "metadata": {},
     "output_type": "display_data"
    }
   ],
   "source": [
    "#Plotting the confusion matrix\n",
    "plt.matshow(confusion, cmap=plt.cm.gray)\n",
    "plt.show()"
   ]
  },
  {
   "cell_type": "code",
   "execution_count": 40,
   "metadata": {},
   "outputs": [
    {
     "name": "stdout",
     "output_type": "stream",
     "text": [
      "[[  9.87755102e-01   0.00000000e+00   0.00000000e+00   1.02040816e-03\n",
      "    0.00000000e+00   2.04081633e-03   2.04081633e-03   1.02040816e-03\n",
      "    4.08163265e-03   2.04081633e-03]\n",
      " [  0.00000000e+00   9.89427313e-01   3.52422907e-03   2.64317181e-03\n",
      "    8.81057269e-04   0.00000000e+00   2.64317181e-03   0.00000000e+00\n",
      "    8.81057269e-04   0.00000000e+00]\n",
      " [  1.35658915e-02   1.93798450e-03   9.48643411e-01   3.87596899e-03\n",
      "    3.87596899e-03   0.00000000e+00   2.90697674e-03   1.16279070e-02\n",
      "    1.25968992e-02   9.68992248e-04]\n",
      " [  9.90099010e-04   0.00000000e+00   1.78217822e-02   9.43564356e-01\n",
      "    0.00000000e+00   1.58415842e-02   1.98019802e-03   8.91089109e-03\n",
      "    9.90099010e-03   9.90099010e-04]\n",
      " [  2.03665988e-03   5.09164969e-03   2.03665988e-03   1.01832994e-03\n",
      "    9.50101833e-01   3.05498982e-03   9.16496945e-03   1.01832994e-03\n",
      "    3.05498982e-03   2.34215886e-02]\n",
      " [  1.23318386e-02   1.12107623e-03   3.36322870e-03   3.25112108e-02\n",
      "    6.72645740e-03   9.18161435e-01   6.72645740e-03   2.24215247e-03\n",
      "    1.23318386e-02   4.48430493e-03]\n",
      " [  1.77453027e-02   3.13152401e-03   5.21920668e-03   0.00000000e+00\n",
      "    7.30688935e-03   8.35073069e-03   9.55114823e-01   0.00000000e+00\n",
      "    2.08768267e-03   1.04384134e-03]\n",
      " [  3.89105058e-03   8.75486381e-03   1.65369650e-02   4.86381323e-03\n",
      "    8.75486381e-03   9.72762646e-04   0.00000000e+00   9.39688716e-01\n",
      "    5.83657588e-03   1.07003891e-02]\n",
      " [  7.18685832e-03   0.00000000e+00   1.12936345e-02   2.25872690e-02\n",
      "    7.18685832e-03   1.74537988e-02   5.13347023e-03   6.16016427e-03\n",
      "    9.09650924e-01   1.33470226e-02]\n",
      " [  1.09018831e-02   3.96432111e-03   1.98216056e-03   1.38751239e-02\n",
      "    2.27948464e-02   3.96432111e-03   9.91080278e-04   6.93756194e-03\n",
      "    9.91080278e-03   9.24677899e-01]]\n"
     ]
    }
   ],
   "source": [
    "#Normalizing the confusion matrix\n",
    "rowtotals = confusion.sum(axis = 1)\n",
    "norm_confusion = confusion.astype(float)\n",
    "\n",
    "for n in range(len(confusion)):\n",
    "    norm_confusion[n] = norm_confusion[n]/rowtotals[n]\n",
    "    \n",
    "print(norm_confusion)"
   ]
  },
  {
   "cell_type": "code",
   "execution_count": 41,
   "metadata": {},
   "outputs": [
    {
     "data": {
      "image/png": "[encoded data removed]",
      "text/plain": [
       "<matplotlib.figure.Figure at 0x202d989c6a0>"
      ]
     },
     "metadata": {},
     "output_type": "display_data"
    }
   ],
   "source": [
    "#Plotting the normalized confusion matrix\n",
    "plt.matshow(norm_confusion, cmap=plt.cm.gray)\n",
    "plt.show()"
   ]
  },
  {
   "cell_type": "code",
   "execution_count": 43,
   "metadata": {},
   "outputs": [
    {
     "name": "stdout",
     "output_type": "stream",
     "text": [
      "0.9475\n"
     ]
    }
   ],
   "source": [
    "#Using sklearn.metrics to compute the accuracy score for the random forest\n",
    "accuracy = met.accuracy_score(ytest, ypred, normalize = True, sample_weight = None)\n",
    "print(accuracy)"
   ]
  }
 ],
 "metadata": {
  "kernelspec": {
   "display_name": "Python 3",
   "language": "python",
   "name": "python3"
  },
  "language_info": {
   "codemirror_mode": {
    "name": "ipython",
    "version": 3
   },
   "file_extension": ".py",
   "mimetype": "text/x-python",
   "name": "python",
   "nbconvert_exporter": "python",
   "pygments_lexer": "ipython3",
   "version": "3.6.1"
  }
 },
 "nbformat": 4,
 "nbformat_minor": 2
}
