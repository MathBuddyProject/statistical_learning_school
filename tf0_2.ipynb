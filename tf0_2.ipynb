{
 "cells": [
  {
   "cell_type": "code",
   "execution_count": 1,
   "metadata": {
    "collapsed": true
   },
   "outputs": [],
   "source": [
    "import tensorflow as tf\n",
    "from tensorflow.examples.tutorials.mnist import input_data"
   ]
  },
  {
   "cell_type": "code",
   "execution_count": 2,
   "metadata": {
    "collapsed": true
   },
   "outputs": [],
   "source": [
    "DATA_DIR = 'data'\n",
    "STEPS = 12000\n",
    "BATCH_SIZE = 50"
   ]
  },
  {
   "cell_type": "code",
   "execution_count": 3,
   "metadata": {},
   "outputs": [
    {
     "name": "stdout",
     "output_type": "stream",
     "text": [
      "Extracting data\\train-images-idx3-ubyte.gz\n",
      "Extracting data\\train-labels-idx1-ubyte.gz\n",
      "Extracting data\\t10k-images-idx3-ubyte.gz\n",
      "Extracting data\\t10k-labels-idx1-ubyte.gz\n"
     ]
    }
   ],
   "source": [
    "data = input_data.read_data_sets(DATA_DIR, one_hot=True) #the class is represented as binary string of length 10 with a single 1"
   ]
  },
  {
   "cell_type": "code",
   "execution_count": 4,
   "metadata": {
    "collapsed": true
   },
   "outputs": [],
   "source": [
    "X = tf.placeholder(tf.float32, [None, 784])\n",
    "W = tf.Variable(tf.truncated_normal([784,10]))\n",
    "b = tf.Variable(tf.zeros([1,10]))"
   ]
  },
  {
   "cell_type": "code",
   "execution_count": 5,
   "metadata": {
    "collapsed": true
   },
   "outputs": [],
   "source": [
    "y_true = tf.placeholder(tf.float32, [None, 10])\n",
    "y_pred = tf.matmul(X,W)+b"
   ]
  },
  {
   "cell_type": "code",
   "execution_count": 6,
   "metadata": {
    "collapsed": true
   },
   "outputs": [],
   "source": [
    "cross_entropy = tf.reduce_mean(tf.nn.softmax_cross_entropy_with_logits(logits=y_pred, labels=y_true))"
   ]
  },
  {
   "cell_type": "code",
   "execution_count": 7,
   "metadata": {
    "collapsed": true
   },
   "outputs": [],
   "source": [
    "learning_rate = 0.2"
   ]
  },
  {
   "cell_type": "code",
   "execution_count": 8,
   "metadata": {
    "collapsed": true
   },
   "outputs": [],
   "source": [
    "optim = tf.train.GradientDescentOptimizer(learning_rate).minimize(cross_entropy)"
   ]
  },
  {
   "cell_type": "code",
   "execution_count": 9,
   "metadata": {
    "collapsed": true
   },
   "outputs": [],
   "source": [
    "correct = tf.equal(tf.argmax(y_pred, 1), tf.argmax(y_true, 1))\n",
    "accuracy = tf.reduce_mean(tf.cast(correct, tf.float32))"
   ]
  },
  {
   "cell_type": "code",
   "execution_count": 10,
   "metadata": {},
   "outputs": [
    {
     "name": "stdout",
     "output_type": "stream",
     "text": [
      "Step: 1 \tAccuracy: 14.31\n",
      "Step: 400 \tAccuracy: 80.73\n",
      "Step: 800 \tAccuracy: 84.3\n",
      "Step: 1200 \tAccuracy: 86.44\n",
      "Step: 1600 \tAccuracy: 86.84\n",
      "Step: 2000 \tAccuracy: 87.89\n",
      "Step: 2400 \tAccuracy: 88.19\n",
      "Step: 2800 \tAccuracy: 88.46\n",
      "Step: 3200 \tAccuracy: 88.47\n",
      "Step: 3600 \tAccuracy: 89.2\n",
      "Step: 4000 \tAccuracy: 89.24\n",
      "Step: 4400 \tAccuracy: 89.26\n",
      "Step: 4800 \tAccuracy: 89.56\n",
      "Step: 5200 \tAccuracy: 89.74\n",
      "Step: 5600 \tAccuracy: 90.07\n",
      "Step: 6000 \tAccuracy: 89.94\n",
      "Step: 6400 \tAccuracy: 90.06\n",
      "Step: 6800 \tAccuracy: 89.95\n",
      "Step: 7200 \tAccuracy: 90.01\n",
      "Step: 7600 \tAccuracy: 90.31\n",
      "Step: 8000 \tAccuracy: 90.44\n",
      "Step: 8400 \tAccuracy: 90.42\n",
      "Step: 8800 \tAccuracy: 89.98\n",
      "Step: 9200 \tAccuracy: 90.26\n",
      "Step: 9600 \tAccuracy: 90.57\n",
      "Step: 10000 \tAccuracy: 90.36\n",
      "Step: 10400 \tAccuracy: 90.46\n",
      "Step: 10800 \tAccuracy: 90.57\n",
      "Step: 11200 \tAccuracy: 90.8\n",
      "Step: 11600 \tAccuracy: 90.54\n",
      "Step: 12000 \tAccuracy: 90.82\n"
     ]
    }
   ],
   "source": [
    "with tf.Session() as sess:\n",
    "    sess.run(tf.global_variables_initializer())\n",
    "    for i in range(STEPS):\n",
    "        x, y = data.train.next_batch(BATCH_SIZE)\n",
    "        sess.run(optim, feed_dict={X: x, y_true: y})\n",
    "        if i == 0 or (i+1) %400 == 0:\n",
    "            acc = sess.run(accuracy, feed_dict={X: data.test.images, y_true: data.test.labels})\n",
    "            print(\"Step: {}\".format(i+1), \"\\tAccuracy: {:.4}\".format(acc*100))\n",
    "    W_trained = W.eval()\n",
    "    b_trained = b.eval()"
   ]
  },
  {
   "cell_type": "code",
   "execution_count": 11,
   "metadata": {
    "collapsed": true
   },
   "outputs": [],
   "source": [
    "tx = data.test.images\n",
    "ty = data.test.labels"
   ]
  },
  {
   "cell_type": "code",
   "execution_count": 12,
   "metadata": {},
   "outputs": [
    {
     "data": {
      "text/plain": [
       "((10000, 784), (10000, 10))"
      ]
     },
     "execution_count": 12,
     "metadata": {},
     "output_type": "execute_result"
    }
   ],
   "source": [
    "tx.shape, ty.shape"
   ]
  },
  {
   "cell_type": "code",
   "execution_count": 13,
   "metadata": {},
   "outputs": [
    {
     "name": "stdout",
     "output_type": "stream",
     "text": [
      "2898\n"
     ]
    },
    {
     "data": {
      "image/png": "[encoded data removed]",
      "text/plain": [
       "<matplotlib.figure.Figure at 0x1ea5302ba20>"
      ]
     },
     "metadata": {},
     "output_type": "display_data"
    },
    {
     "name": "stdout",
     "output_type": "stream",
     "text": [
      "4\n"
     ]
    }
   ],
   "source": [
    "%matplotlib inline\n",
    "import numpy as np\n",
    "import matplotlib\n",
    "import matplotlib.pyplot as plt\n",
    "import random\n",
    "\n",
    "len=tx.shape[0]\n",
    "index=random.randrange(len)\n",
    "print(index)\n",
    "\n",
    "adigit=tx[index]\n",
    "adigit_image=adigit.reshape(28,28)\n",
    "\n",
    "plt.imshow(adigit_image, cmap=matplotlib.cm.binary, interpolation=\"nearest\")\n",
    "plt.axis(\"off\")\n",
    "plt.show()\n",
    "print(np.argmax(ty[index]))"
   ]
  },
  {
   "cell_type": "code",
   "execution_count": 14,
   "metadata": {},
   "outputs": [
    {
     "data": {
      "text/plain": [
       "(1, 784)"
      ]
     },
     "execution_count": 14,
     "metadata": {},
     "output_type": "execute_result"
    }
   ],
   "source": [
    "digit = adigit.reshape(1,784)\n",
    "digit.shape"
   ]
  },
  {
   "cell_type": "code",
   "execution_count": 18,
   "metadata": {},
   "outputs": [
    {
     "name": "stdout",
     "output_type": "stream",
     "text": [
      "Tensor(\"add_3:0\", shape=(1, 10), dtype=float32)\n",
      "Tensor(\"ArgMax_4:0\", shape=(1,), dtype=int64)\n"
     ]
    }
   ],
   "source": [
    "y_pred = tf.matmul(digit,W_trained)+b_trained\n",
    "print(y_pred)\n",
    "pred = tf.argmax(y_pred, 1)\n",
    "print(pred)"
   ]
  },
  {
   "cell_type": "code",
   "execution_count": 16,
   "metadata": {},
   "outputs": [
    {
     "name": "stdout",
     "output_type": "stream",
     "text": [
      "[4]\n"
     ]
    }
   ],
   "source": [
    "with tf.Session() as sess:\n",
    "    print(sess.run(pred))"
   ]
  },
  {
   "cell_type": "code",
   "execution_count": null,
   "metadata": {
    "collapsed": true
   },
   "outputs": [],
   "source": []
  }
 ],
 "metadata": {
  "kernelspec": {
   "display_name": "Python 3",
   "language": "python",
   "name": "python3"
  },
  "language_info": {
   "codemirror_mode": {
    "name": "ipython",
    "version": 3
   },
   "file_extension": ".py",
   "mimetype": "text/x-python",
   "name": "python",
   "nbconvert_exporter": "python",
   "pygments_lexer": "ipython3",
   "version": "3.6.1"
  }
 },
 "nbformat": 4,
 "nbformat_minor": 2
}
