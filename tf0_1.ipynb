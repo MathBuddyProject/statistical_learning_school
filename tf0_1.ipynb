{
 "cells": [
  {
   "cell_type": "code",
   "execution_count": 3,
   "metadata": {
    "collapsed": true
   },
   "outputs": [],
   "source": [
    "import tensorflow as tf\n",
    "import numpy as np"
   ]
  },
  {
   "cell_type": "markdown",
   "metadata": {},
   "source": [
    "This code will create 3 random 2d vectors and then rotate them at a random angle. The initial and rotated traingles will be drawn. "
   ]
  },
  {
   "cell_type": "code",
   "execution_count": 4,
   "metadata": {
    "collapsed": true
   },
   "outputs": [],
   "source": [
    "random_vector_0 = tf.Variable(tf.random_normal((2,1), 0, 1), name = 'rv0')\n",
    "random_vector_1 = tf.Variable(tf.random_normal((2, 1), 0, 1), name = 'rv1')\n",
    "random_vector_2 = tf.Variable(tf.random_normal((2, 1), 0, 1), name = 'rv2')"
   ]
  },
  {
   "cell_type": "code",
   "execution_count": 5,
   "metadata": {},
   "outputs": [],
   "source": [
    "random_angle = tf.Variable(tf.random_uniform((), 0, 2*np.pi))"
   ]
  },
  {
   "cell_type": "code",
   "execution_count": 6,
   "metadata": {},
   "outputs": [],
   "source": [
    "random_entries = [tf.cos(random_angle), -tf.sin(random_angle), tf.sin(random_angle), tf.cos(random_angle)]"
   ]
  },
  {
   "cell_type": "code",
   "execution_count": 5,
   "metadata": {
    "collapsed": true
   },
   "outputs": [],
   "source": [
    "random_rotation = tf.reshape(random_entries, [2,2])"
   ]
  },
  {
   "cell_type": "code",
   "execution_count": 6,
   "metadata": {},
   "outputs": [
    {
     "data": {
      "text/plain": [
       "(<tf.Tensor 'Reshape:0' shape=(2, 2) dtype=float32>,\n",
       " <tf.Variable 'rv0:0' shape=(2, 1) dtype=float32_ref>)"
      ]
     },
     "execution_count": 6,
     "metadata": {},
     "output_type": "execute_result"
    }
   ],
   "source": [
    "random_rotation, random_vector_0"
   ]
  },
  {
   "cell_type": "code",
   "execution_count": 7,
   "metadata": {
    "collapsed": true
   },
   "outputs": [],
   "source": [
    "new_vector_0 = tf.matmul(random_rotation, random_vector_0)\n",
    "new_vector_1 = tf.matmul(random_rotation, random_vector_1)\n",
    "new_vector_2 = tf.matmul(random_rotation, random_vector_2)"
   ]
  },
  {
   "cell_type": "code",
   "execution_count": 8,
   "metadata": {
    "collapsed": true
   },
   "outputs": [],
   "source": [
    "init = tf.global_variables_initializer()"
   ]
  },
  {
   "cell_type": "code",
   "execution_count": 9,
   "metadata": {
    "collapsed": true
   },
   "outputs": [],
   "source": [
    "with tf.Session() as sess:\n",
    "        sess.run(init)\n",
    "        rv_0, rv_1, rv_2 = random_vector_0.eval(), random_vector_1.eval(), random_vector_2.eval()\n",
    "        rr = sess.run(random_rotation)\n",
    "        nv_0, nv_1, nv_2 = sess.run([new_vector_0, new_vector_1, new_vector_2])"
   ]
  },
  {
   "cell_type": "code",
   "execution_count": 10,
   "metadata": {},
   "outputs": [
    {
     "data": {
      "text/plain": [
       "[<tf.Variable 'rv0:0' shape=(2, 1) dtype=float32_ref>,\n",
       " <tf.Variable 'rv1:0' shape=(2, 1) dtype=float32_ref>,\n",
       " <tf.Variable 'rv2:0' shape=(2, 1) dtype=float32_ref>,\n",
       " <tf.Variable 'Variable:0' shape=() dtype=float32_ref>]"
      ]
     },
     "execution_count": 10,
     "metadata": {},
     "output_type": "execute_result"
    }
   ],
   "source": [
    "tf.get_collection(tf.GraphKeys.GLOBAL_VARIABLES)"
   ]
  },
  {
   "cell_type": "code",
   "execution_count": 11,
   "metadata": {},
   "outputs": [
    {
     "data": {
      "text/plain": [
       "(array([[ 1.29400992],\n",
       "        [ 0.74275494]], dtype=float32), array([[-0.38979888, -0.92089999],\n",
       "        [ 0.92089999, -0.38979888]], dtype=float32), array([[-1.18840659],\n",
       "        [ 0.9021287 ]], dtype=float32))"
      ]
     },
     "execution_count": 11,
     "metadata": {},
     "output_type": "execute_result"
    }
   ],
   "source": [
    "rv_0, rr, nv_0"
   ]
  },
  {
   "cell_type": "code",
   "execution_count": 12,
   "metadata": {},
   "outputs": [
    {
     "data": {
      "text/plain": [
       "<tf.Tensor 'MatMul:0' shape=(2, 1) dtype=float32>"
      ]
     },
     "execution_count": 12,
     "metadata": {},
     "output_type": "execute_result"
    }
   ],
   "source": [
    "new_vector_0"
   ]
  },
  {
   "cell_type": "markdown",
   "metadata": {},
   "source": [
    "Let's plot the two triangles."
   ]
  },
  {
   "cell_type": "code",
   "execution_count": 13,
   "metadata": {
    "collapsed": true
   },
   "outputs": [],
   "source": [
    "import matplotlib.pyplot as plt"
   ]
  },
  {
   "cell_type": "code",
   "execution_count": 14,
   "metadata": {},
   "outputs": [
    {
     "data": {
      "image/png": "[encoded data removed]",
      "text/plain": [
       "<matplotlib.figure.Figure at 0x22f6634bef0>"
      ]
     },
     "metadata": {},
     "output_type": "display_data"
    }
   ],
   "source": [
    "plt.plot([rv_0[0], rv_1[0], rv_2[0], rv_0[0]], [rv_0[1], rv_1[1], rv_2[1], rv_0[1]], 'r-o')\n",
    "plt.plot([nv_0[0], nv_1[0], nv_2[0], nv_0[0]], [nv_0[1], nv_1[1], nv_2[1], nv_0[1]], 'g-s')\n",
    "plt.axis('equal')\n",
    "plt.show()"
   ]
  },
  {
   "cell_type": "code",
   "execution_count": null,
   "metadata": {
    "collapsed": true
   },
   "outputs": [],
   "source": []
  }
 ],
 "metadata": {
  "kernelspec": {
   "display_name": "Python 3",
   "language": "python",
   "name": "python3"
  },
  "language_info": {
   "codemirror_mode": {
    "name": "ipython",
    "version": 3
   },
   "file_extension": ".py",
   "mimetype": "text/x-python",
   "name": "python",
   "nbconvert_exporter": "python",
   "pygments_lexer": "ipython3",
   "version": "3.6.1"
  }
 },
 "nbformat": 4,
 "nbformat_minor": 2
}
