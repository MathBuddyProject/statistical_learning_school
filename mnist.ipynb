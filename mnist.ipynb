{
 "cells": [
  {
   "cell_type": "markdown",
   "metadata": {
    "collapsed": true
   },
   "source": [
    "This program will use the Gaussian kernel to classify the MNIST data set."
   ]
  },
  {
   "cell_type": "code",
   "execution_count": null,
   "metadata": {
    "collapsed": true
   },
   "outputs": [],
   "source": [
    "#Importing the MNIST data set\n",
    "from sklearn.datasets import fetch_mldata\n",
    "mnist = fetch_mldata(\"MNIST original\")\n",
    "x, y = mnist[\"data\"], mnist[\"target\"] #Creating arrays for the feature vectors and the labels"
   ]
  },
  {
   "cell_type": "code",
   "execution_count": 3,
   "metadata": {},
   "outputs": [
    {
     "name": "stdout",
     "output_type": "stream",
     "text": [
      "37036\n"
     ]
    },
    {
     "data": {
      "image/png": "[encoded data removed]",
      "text/plain": [
       "<matplotlib.figure.Figure at 0x2607e2db748>"
      ]
     },
     "metadata": {},
     "output_type": "display_data"
    },
    {
     "data": {
      "text/plain": [
       "6.0"
      ]
     },
     "execution_count": 3,
     "metadata": {},
     "output_type": "execute_result"
    }
   ],
   "source": [
    "#Importing matplotlib to display the handwritten digits that will be classified\n",
    "%matplotlib inline\n",
    "import matplotlib\n",
    "import matplotlib.pyplot as plt\n",
    "import random\n",
    "\n",
    "#Selecting a random image from the data set\n",
    "images = x.shape[0]\n",
    "index = random.randrange(images)\n",
    "print(index)\n",
    "\n",
    "#Reshaping the array to a 28x28 pixel image\n",
    "display = x[index].reshape((28,28))\n",
    "\n",
    "#Plotting the image\n",
    "plt.imshow(display, cmap = matplotlib.cm.binary, interpolation=\"nearest\")\n",
    "plt.axis(\"off\")\n",
    "plt.show()\n",
    "y[index]"
   ]
  },
  {
   "cell_type": "code",
   "execution_count": 4,
   "metadata": {
    "collapsed": true
   },
   "outputs": [],
   "source": [
    "#Splitting the data into training cases and test cases\n",
    "xtrain, ytrain, xtest, ytest = x[:60000], y[:60000], x[60000:], y[60000:]"
   ]
  },
  {
   "cell_type": "code",
   "execution_count": 26,
   "metadata": {},
   "outputs": [
    {
     "name": "stdout",
     "output_type": "stream",
     "text": [
      "0: 5923\n",
      "1: 6742\n",
      "2: 5958\n",
      "3: 6131\n",
      "4: 5842\n",
      "5: 5421\n",
      "6: 5918\n",
      "7: 6265\n",
      "8: 5851\n",
      "9: 5949\n"
     ]
    }
   ],
   "source": [
    "#Counting the amount each class occurs in the training cases (to be used in normalizing the Gaussian distance)\n",
    "train_counter = [0]*10\n",
    "\n",
    "for n in range(len(ytrain)):\n",
    "    train_counter[int(ytrain[n])] += 1 \n",
    "    \n",
    "for n in range(len(train_counter)):\n",
    "    print(str(n) + \": \" + str(train_counter[n]))"
   ]
  },
  {
   "cell_type": "code",
   "execution_count": 6,
   "metadata": {
    "collapsed": true
   },
   "outputs": [],
   "source": [
    "#Defining the Gaussian kernel using a function for the Euclidean distance\n",
    "import numpy as np\n",
    "import math\n",
    "\n",
    "def euclid(a,b,h):\n",
    "    argument = (a-b)/h\n",
    "    magnitude = np.linalg.norm(argument) #Changes the Euclidean distance from a vector value with 784 dimensions to a scalar\n",
    "    return magnitude\n",
    "\n",
    "def gaussian(a,b,h):\n",
    "    gauss = math.exp(-(euclid(a,b,h))**2)\n",
    "    return gauss"
   ]
  },
  {
   "cell_type": "code",
   "execution_count": 31,
   "metadata": {},
   "outputs": [
    {
     "name": "stdout",
     "output_type": "stream",
     "text": [
      "Please enter a value for the smoothing factor h (suggested default: 1000): 1000\n"
     ]
    }
   ],
   "source": [
    "#Taking input for a smoothing factor to be used in the Gaussian kernel\n",
    "h = float(input(\"Please enter a value for the smoothing factor h (suggested default: 1000): \"))\n",
    "while h <= 0:\n",
    "    h = float(input(\"Please enter a valid positive nonzero value for h: \"))\n",
    "\n",
    "#Computation and normalization of the 10 Gaussian kernels\n",
    "def classifier(new_case):\n",
    "    gdist = [0]*10\n",
    "    ndist = [0]*10\n",
    "    for n in range(len(xtrain)): \n",
    "        gdist[int(ytrain[n])] += gaussian(new_case,xtrain[n],h)\n",
    "        ndist[int(ytrain[n])] = gdist[int(ytrain[n])]/train_counter[int(ytrain[n])]\n",
    "    decision = np.argmax(ndist) #Decision is made on which of the 10 functions has the highest value\n",
    "    return decision"
   ]
  },
  {
   "cell_type": "code",
   "execution_count": 49,
   "metadata": {},
   "outputs": [
    {
     "name": "stdout",
     "output_type": "stream",
     "text": [
      "[[25  0  0  0  0  0  1  0  0  0]\n",
      " [ 0 26  0  0  0  0  0  0  0  0]\n",
      " [ 0 12 16  0  0  0  2  1  2  0]\n",
      " [ 0  8  0 20  0  0  0  0  1  1]\n",
      " [ 1  5  0  0  9  0  0  0  0  4]\n",
      " [ 6 14  0  5  0  3  0  0  2  0]\n",
      " [ 1  2  0  0  0  0 25  0  0  0]\n",
      " [ 0  5  1  0  0  0  0 22  0  0]\n",
      " [ 1  5  0  2  0  0  0  0  7  1]\n",
      " [ 0  4  0  0  0  0  0  1  1 14]]\n"
     ]
    }
   ],
   "source": [
    "#Randomizing the array of test cases and selecting 256 for classification by the kernel\n",
    "samples = 256\n",
    "randomize = np.arange(len(xtest))\n",
    "np.random.shuffle(randomize)\n",
    "xtest = xtest[randomize]\n",
    "ytest = ytest[randomize]\n",
    "confusion = np.zeros([10,10],dtype = int)\n",
    "\n",
    "#Implementing the classification function and filling the confusion matrix\n",
    "for n in range(samples):\n",
    "    c = classifier(xtest[n])\n",
    "    confusion[int(ytest[n])][c] += 1\n",
    "    \n",
    "print(confusion)"
   ]
  },
  {
   "cell_type": "code",
   "execution_count": 50,
   "metadata": {},
   "outputs": [
    {
     "data": {
      "image/png": "[encoded data removed]",
      "text/plain": [
       "<matplotlib.figure.Figure at 0x2607f529390>"
      ]
     },
     "metadata": {},
     "output_type": "display_data"
    }
   ],
   "source": [
    "#Plotting the non-normalized confusion matrix\n",
    "plt.matshow(confusion, cmap=plt.cm.gray)\n",
    "plt.show()"
   ]
  },
  {
   "cell_type": "code",
   "execution_count": 54,
   "metadata": {},
   "outputs": [
    {
     "name": "stdout",
     "output_type": "stream",
     "text": [
      "[[ 0.03698225  0.          0.          0.          0.          0.\n",
      "   0.00147929  0.          0.          0.        ]\n",
      " [ 0.          0.03846154  0.          0.          0.          0.          0.\n",
      "   0.          0.          0.        ]\n",
      " [ 0.          0.01101928  0.01469238  0.          0.          0.\n",
      "   0.00183655  0.00091827  0.00183655  0.        ]\n",
      " [ 0.          0.00888889  0.          0.02222222  0.          0.          0.\n",
      "   0.          0.00111111  0.00111111]\n",
      " [ 0.00277008  0.01385042  0.          0.          0.02493075  0.          0.\n",
      "   0.          0.          0.01108033]\n",
      " [ 0.00666667  0.01555556  0.          0.00555556  0.          0.00333333\n",
      "   0.          0.          0.00222222  0.        ]\n",
      " [ 0.00127551  0.00255102  0.          0.          0.          0.\n",
      "   0.03188776  0.          0.          0.        ]\n",
      " [ 0.          0.00637755  0.00127551  0.          0.          0.          0.\n",
      "   0.02806122  0.          0.        ]\n",
      " [ 0.00390625  0.01953125  0.          0.0078125   0.          0.          0.\n",
      "   0.          0.02734375  0.00390625]\n",
      " [ 0.          0.01        0.          0.          0.          0.          0.\n",
      "   0.0025      0.0025      0.035     ]]\n"
     ]
    }
   ],
   "source": [
    "#Normalizing the confusion matrix using percentages\n",
    "rowtotals = confusion.sum(axis = 1)\n",
    "norm_confusion = confusion.astype(float)\n",
    "\n",
    "for n in range(len(confusion)):\n",
    "    norm_confusion[n] = norm_confusion[n]/rowtotals[n]\n",
    "    \n",
    "print(norm_confusion)    "
   ]
  },
  {
   "cell_type": "code",
   "execution_count": 55,
   "metadata": {},
   "outputs": [
    {
     "data": {
      "image/png": "[encoded data removed]",
      "text/plain": [
       "<matplotlib.figure.Figure at 0x2607ed9c898>"
      ]
     },
     "metadata": {},
     "output_type": "display_data"
    }
   ],
   "source": [
    "#Plotting the normalized confusion matrix\n",
    "plt.matshow(norm_confusion, cmap=plt.cm.gray)\n",
    "plt.show()"
   ]
  }
 ],
 "metadata": {
  "kernelspec": {
   "display_name": "Python 3",
   "language": "python",
   "name": "python3"
  },
  "language_info": {
   "codemirror_mode": {
    "name": "ipython",
    "version": 3
   },
   "file_extension": ".py",
   "mimetype": "text/x-python",
   "name": "python",
   "nbconvert_exporter": "python",
   "pygments_lexer": "ipython3",
   "version": "3.6.1"
  }
 },
 "nbformat": 4,
 "nbformat_minor": 2
}
