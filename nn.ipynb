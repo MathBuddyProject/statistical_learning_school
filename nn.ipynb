{
 "cells": [
  {
   "cell_type": "code",
   "execution_count": 10,
   "metadata": {},
   "outputs": [
    {
     "name": "stdout",
     "output_type": "stream",
     "text": [
      "A double in rows 21 and 56 has been found.\n",
      "\n",
      "Enter a value for x: -1\n",
      "Enter a value for y: 2\n",
      "\n",
      "Nearest Neighbours:\n",
      "[ 0.5  2.1  0. ]\n",
      "[ 0.8  1.8  0. ]\n",
      "[ 0.8  1.6  0. ]\n",
      "\n",
      "The object is of class 0.\n"
     ]
    },
    {
     "data": {
      "image/png": "[encoded data removed]",
      "text/plain": [
       "<matplotlib.figure.Figure at 0x22e0c154a20>"
      ]
     },
     "metadata": {},
     "output_type": "display_data"
    }
   ],
   "source": [
    "from numpy import loadtxt\n",
    "data = loadtxt(\"nn.csv\", skiprows=1, delimiter=\",\") #Importing data file\n",
    "rows = data.shape[0] #Counting the number of rows\n",
    "\n",
    "width = 3\n",
    "\n",
    "matrix = [[0 for x in range(width)] for y in range(rows)]\n",
    "\n",
    "#Storing the data from the spreadsheet in a multidimensional array\n",
    "for n in range(rows):\n",
    "    matrix[n] = data[n]  \n",
    "    \n",
    "#Checking the data for doubles and identifying them if they exist    \n",
    "for n in range(rows):    \n",
    "    i = n + 1\n",
    "    while i < rows:\n",
    "        if matrix[n][0] == matrix[i][0] and matrix[n][1] == matrix[i][1] and matrix[n][2] == matrix[i][2]:\n",
    "            del matrix[n]\n",
    "            rows = rows - 1\n",
    "            print(\"A double in rows \" + str(n) + \" and \" + str(i) + \" has been found.\")\n",
    "        i = i + 1\n",
    "\n",
    "#Taking user input for point to be classified\n",
    "print(\"\")\n",
    "x = eval(input(\"Enter a value for x: \")) \n",
    "y = eval(input(\"Enter a value for y: \"))\n",
    "\n",
    "#Variables used to identify 3 nearest neighbours\n",
    "neighbour1 = 100\n",
    "neighbour2 = 100\n",
    "neighbour3 = 100\n",
    "n1 = 0\n",
    "n2 = 0\n",
    "n3 = 0\n",
    "\n",
    "#Evaluating the distance between user point and each sample point and selecting the 3 closest\n",
    "for n in range(rows):\n",
    "    dist = ((x-matrix[n][0])**2 + (y-matrix[n][1])**2)**(1/2)\n",
    "    if dist < neighbour1:\n",
    "        neighbour1 = dist\n",
    "        n1 = n\n",
    "    elif dist < neighbour2:\n",
    "        neighbour2 = dist\n",
    "        n2 = n\n",
    "    elif dist < neighbour3:\n",
    "        neighbour3 = dist\n",
    "        n3 = n\n",
    "\n",
    "neighbours = [n1,n2,n3]\n",
    "cnt0 = 0\n",
    "cnt1 = 0\n",
    "\n",
    "print(\"\")\n",
    "print(\"Nearest Neighbours:\")\n",
    "for n in range(3):\n",
    "    print(matrix[neighbours[n]])\n",
    "\n",
    "#Counting the \"votes\"    \n",
    "for n in range(3):\n",
    "    if matrix[neighbours[n]][2] == 0:\n",
    "        cnt0 = cnt0 + 1\n",
    "    else:\n",
    "        cnt1 = cnt1 + 1\n",
    "\n",
    "#Selecting the class based on the majority vote  \n",
    "print(\"\")\n",
    "if cnt0 > cnt1:\n",
    "    print(\"The object is of class 0.\")\n",
    "else:\n",
    "    print(\"The object is of class 1.\")\n",
    " \n",
    "x0 = []\n",
    "x1 = []\n",
    "for n in range(rows):\n",
    "    if data[n][2] == 0:\n",
    "        x0.append(data[n][0])\n",
    "    else:\n",
    "        x1.append(data[n][0])\n",
    "y0 = []\n",
    "y1 = []\n",
    "for n in range(rows):\n",
    "    if data[n][2] == 0:\n",
    "        y0.append(data[n][1])\n",
    "    else:\n",
    "        y1.append(data[n][1])\n",
    "\n",
    "import pylab as pl\n",
    "pl.plot(x0,y0,'ro')\n",
    "pl.plot(x1,y1,'go')\n",
    "pl.plot(x,y,'bo')\n",
    "pl.show()"
   ]
  },
  {
   "cell_type": "code",
   "execution_count": null,
   "metadata": {
    "collapsed": true
   },
   "outputs": [],
   "source": []
  }
 ],
 "metadata": {
  "kernelspec": {
   "display_name": "Python 3",
   "language": "python",
   "name": "python3"
  },
  "language_info": {
   "codemirror_mode": {
    "name": "ipython",
    "version": 3
   },
   "file_extension": ".py",
   "mimetype": "text/x-python",
   "name": "python",
   "nbconvert_exporter": "python",
   "pygments_lexer": "ipython3",
   "version": "3.6.1"
  }
 },
 "nbformat": 4,
 "nbformat_minor": 2
}
